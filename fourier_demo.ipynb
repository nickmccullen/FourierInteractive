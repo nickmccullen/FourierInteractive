{
 "cells": [
  {
   "cell_type": "code",
   "execution_count": 1,
   "metadata": {},
   "outputs": [
    {
     "name": "stdout",
     "output_type": "stream",
     "text": [
      "Populating the interactive namespace from numpy and matplotlib\n"
     ]
    },
    {
     "data": {
      "application/vnd.jupyter.widget-view+json": {
       "model_id": "4f076b4568194ff9a45ef39b8293a68e",
       "version_major": 2,
       "version_minor": 0
      },
      "text/plain": [
       "interactive(children=(FloatSlider(value=0.0, description='a0', max=3.0, min=-3.0), FloatSlider(value=1.0, desc…"
      ]
     },
     "metadata": {},
     "output_type": "display_data"
    }
   ],
   "source": [
    "%pylab inline\n",
    "from ipywidgets import interact\n",
    "from numpy import arange, pi, ones, cos, sin, zeros\n",
    "\n",
    "@interact()\n",
    "def par(a0=(-3,3,0.1), a1=(0,2,0.01), a2=(0,2/2,0.01), a3=(0,2/3,0.01)):\n",
    "    '''\n",
    "    fourier series demo\n",
    "    '''\n",
    "    x = arange(-4*pi,4*pi,0.1)\n",
    "    y = a0*ones(len(x)) + a1*cos(x) + a2*cos(2*x) + a3*cos(3*x)\n",
    "    \n",
    "    #plot some wiggles\n",
    "    fig,ax = subplots(1,2,figsize=(16,5))\n",
    "    ax[0].plot(x,y)\n",
    "    \n",
    "    #plot separate cosines\n",
    "    ax[1].plot(x, a0*ones(len(x)), \n",
    "               x, a1*cos(x), \n",
    "               x, a2*cos(2*x), \n",
    "               x, a3*cos(3*x)\n",
    "              )\n",
    "    \n",
    "    ax[0].set_ylim(-pi,pi)\n",
    "    ax[1].set_ylim(-pi,pi)\n",
    "    return None"
   ]
  },
  {
   "cell_type": "code",
   "execution_count": 2,
   "metadata": {},
   "outputs": [
    {
     "data": {
      "application/vnd.jupyter.widget-view+json": {
       "model_id": "6b92d4c49e8e46c9bdc5c6c6ccd63c29",
       "version_major": 2,
       "version_minor": 0
      },
      "text/plain": [
       "interactive(children=(FloatSlider(value=0.0, description='a0', max=3.0, min=-3.0), FloatSlider(value=1.0, desc…"
      ]
     },
     "metadata": {},
     "output_type": "display_data"
    }
   ],
   "source": [
    "@interact()\n",
    "def par(a0=(-3,3,0.1), a1=(0,2,0.01), a2=(0,2/2,0.01), a3=(0,2/3,0.01), a4=(0,2/4,0.01), a5=(0,2/5,0.01), \n",
    "                       b1=(0,2,0.01), b2=(0,2/2,0.01), b3=(0,2/3,0.01), b4=(0,2/4,0.01), b5=(0,2/5,0.01)):\n",
    "    '''\n",
    "    fourier series demo\n",
    "    '''\n",
    "    x = arange(-4*pi,4*pi,0.2)\n",
    "    y = a0*ones(len(x)) + a1*cos(x) + a2*cos(2*x) + a3*cos(3*x) + a4*cos(4*x) + a5*cos(5*x)\\\n",
    "                        + b1*sin(x) + b2*sin(2*x) + b3*sin(3*x) + b4*sin(4*x) + b5*sin(5*x)\n",
    "    \n",
    "    #plot some wiggles\n",
    "    fig,ax = subplots(1,1,figsize=(16,5))\n",
    "    ax.plot(x,y)\n",
    "    \n",
    "    ax.set_ylim(-pi,pi)\n",
    "    return None\n",
    "\n",
    "    "
   ]
  },
  {
   "cell_type": "code",
   "execution_count": 3,
   "metadata": {},
   "outputs": [
    {
     "data": {
      "application/vnd.jupyter.widget-view+json": {
       "model_id": "b172ca054ed4497098336fa7358ca6f3",
       "version_major": 2,
       "version_minor": 0
      },
      "text/plain": [
       "interactive(children=(FloatSlider(value=0.0, description='a1', max=1.0, min=-1.0, step=0.01), FloatSlider(valu…"
      ]
     },
     "metadata": {},
     "output_type": "display_data"
    }
   ],
   "source": [
    "@interact()\n",
    "def par(a1=(-1,1,0.01), a2=(-1,1,0.01), a3=(-1,1,0.01), a4=(-1,1,0.01), a5=(-1,1,0.01),\n",
    "        a6=(-1,1,0.01), a7=(-1,1,0.01), a8=(-1,1,0.01), a9=(-1,1,0.01), a10=(-1,1,0.01)):\n",
    "    '''\n",
    "    fourier series demo\n",
    "    '''\n",
    "    x = arange(-4*pi,4*pi,0.2)\n",
    "    y = a1*cos(x) + a2*cos(2*x) + a3*cos(3*x) + a4*cos(4*x) + a5*cos(5*x)\\\n",
    "      + a6*cos(6*x) + a7*cos(7*x) + a8*cos(8*x) + a9*cos(9*x) + a10*cos(10*x)\n",
    "    \n",
    "    #plot some wiggles\n",
    "    fig,ax = subplots(1,2,figsize=(16,5))\n",
    "    ax[0].plot(x,y)\n",
    "    \n",
    "    ax[1].plot(x, a1*cos(x), \n",
    "               x, a2*cos(2*x), \n",
    "               x, a3*cos(3*x)\n",
    "              )\n",
    "    \n",
    "    ax[0].set_ylim(-6,6)\n",
    "    ax[1].set_ylim(-2,2)\n",
    "    return None\n",
    "\n",
    "    "
   ]
  },
  {
   "cell_type": "code",
   "execution_count": 4,
   "metadata": {},
   "outputs": [
    {
     "data": {
      "text/plain": [
       "[<matplotlib.lines.Line2D at 0x7f83baa3b430>]"
      ]
     },
     "execution_count": 4,
     "metadata": {},
     "output_type": "execute_result"
    },
    {
     "data": {
      "image/png": "[encoded data removed]",
      "text/plain": [
       "<Figure size 432x288 with 1 Axes>"
      ]
     },
     "metadata": {
      "needs_background": "light"
     },
     "output_type": "display_data"
    }
   ],
   "source": [
    "x = arange(-2*pi,2*pi,0.02)\n",
    "y = zeros(len(x))\n",
    "\n",
    "\n",
    "for n in range(42):\n",
    "    y += (-1)**n * cos(n*x)\n",
    "    \n",
    "plot(x,y)"
   ]
  }
 ],
 "metadata": {
  "kernelspec": {
   "display_name": "Python 3",
   "language": "python",
   "name": "python3"
  },
  "language_info": {
   "codemirror_mode": {
    "name": "ipython",
    "version": 3
   },
   "file_extension": ".py",
   "mimetype": "text/x-python",
   "name": "python",
   "nbconvert_exporter": "python",
   "pygments_lexer": "ipython3",
   "version": "3.8.5"
  }
 },
 "nbformat": 4,
 "nbformat_minor": 4
}
